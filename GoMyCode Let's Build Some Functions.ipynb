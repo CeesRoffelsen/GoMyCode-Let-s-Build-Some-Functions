{
 "cells": [
  {
   "cell_type": "code",
   "execution_count": 1,
   "id": "1c5406a3",
   "metadata": {},
   "outputs": [
    {
     "name": "stdout",
     "output_type": "stream",
     "text": [
      "35 is the biggest number\n"
     ]
    }
   ],
   "source": [
    "'''Question 1\n",
    "\n",
    "Write a Python function to find the Max of three numbers.\n",
    "\n",
    "for example, the max of these three numbers 20, 35, 19 is 35'''\n",
    "\n",
    "def test(a, b, c):\n",
    "    if a > b :\n",
    "        if a > c:\n",
    "            print (a,\"is the biggest number\") \n",
    "    elif b > a:\n",
    "        if b > c:\n",
    "            print (b,\"is the biggest number\") \n",
    "    elif c > a:\n",
    "        if c > b:\n",
    "            print (c,\"is the biggest number\") \n",
    "    else:\n",
    "        print ('There is no biggest number')\n",
    "test(20, 35, 19) "
   ]
  },
  {
   "cell_type": "code",
   "execution_count": 2,
   "id": "ffa8cb43",
   "metadata": {},
   "outputs": [
    {
     "data": {
      "text/plain": [
       "(50, 30)"
      ]
     },
     "execution_count": 2,
     "metadata": {},
     "output_type": "execute_result"
    }
   ],
   "source": [
    "'''Question 2\n",
    "\n",
    "Write a function calculation() such that it can accept two variables and calculate the addition and subtraction of it. \n",
    "And also it must return both addition and subtraction in a single return call\n",
    "\n",
    "For example:\n",
    "\n",
    "calculation(40, 10) should produce 50, 30'''\n",
    "\n",
    "def calculation (a,b):\n",
    "    y = a+b\n",
    "    x = a-b\n",
    "    return y,x\n",
    "calculation(40,10)"
   ]
  },
  {
   "cell_type": "code",
   "execution_count": 3,
   "id": "1e7d420e",
   "metadata": {},
   "outputs": [
    {
     "data": {
      "text/plain": [
       "(3, 6)"
      ]
     },
     "execution_count": 3,
     "metadata": {},
     "output_type": "execute_result"
    }
   ],
   "source": [
    "'''Question 3\n",
    "\n",
    "* Write a function that sums the elements of a list of integers.\n",
    "* Write a function that multiplies the elements of an integer list.\n",
    "* Use the two functions to sum the elements whose position is an even number (0,2,4…) and multiply the rest.\n",
    "Hint: Consider extracting two lists from a first list '''\n",
    "import math\n",
    "numbers = (1, 2, 3, 4)\n",
    "\n",
    "def sumlist(numbers):\n",
    "    return sum(numbers)\n",
    "sumlist(numbers)\n",
    "\n",
    "def prodlist(numbers):\n",
    "    return math.prod(numbers)\n",
    "prodlist(numbers)\n",
    "\n",
    "\n",
    "def split_list_even_odd(numbers):\n",
    "    odd_numbers = [x for x in numbers if x % 2 == 1]\n",
    "    even_numbers = [x for x in numbers if x % 2 == 0]\n",
    "    return prodlist(odd_numbers), sumlist(even_numbers)\n",
    "split_list_even_odd(numbers)\n"
   ]
  },
  {
   "cell_type": "code",
   "execution_count": 4,
   "id": "de5b29d0",
   "metadata": {},
   "outputs": [
    {
     "data": {
      "text/plain": [
       "'black-green-red-white-yellow'"
      ]
     },
     "execution_count": 4,
     "metadata": {},
     "output_type": "execute_result"
    }
   ],
   "source": [
    "'''Question 4\n",
    "\n",
    "Write a Python program that accepts a hyphen-separated sequence of words as input and prints the words in a hyphen-separated \n",
    "sequence after sorting them alphabetically.\n",
    "\n",
    "Sample Items : green-red-yellow-black-white\n",
    "Expected Result : black-green-red-white-yellow\n",
    "\n",
    "Hint : There's a split function to separate your input string into words and a sort function to sort.'''\n",
    "\n",
    "text= ('green-red-yellow-black-white')\n",
    "def textsplitterandsorter(text):\n",
    "    x = text.split(\"-\")\n",
    "    y = sorted(x)\n",
    "    return '-'.join(y)\n",
    "textsplitterandsorter (text)"
   ]
  },
  {
   "cell_type": "code",
   "execution_count": 5,
   "id": "0d78d8cb",
   "metadata": {},
   "outputs": [
    {
     "name": "stdout",
     "output_type": "stream",
     "text": [
      "100,150,180\n",
      "[18, 22, 24]\n"
     ]
    }
   ],
   "source": [
    "'''Question 5 (Bonus)\n",
    "\n",
    "Write a function that calculates and prints the value according to the given formula: Q = Square root of [(2 * C * D)/H] \n",
    "Following are the fixed values of C and H: C is 50. H is 30. \n",
    "D is the variable whose values should be input to your program in a comma-separated sequence. \n",
    "\n",
    "Example Let us assume the following comma separated input sequence is given to the function: 100,150,180 \n",
    "The output of the program should be: 18,22,24 \n",
    "\n",
    "Hints: If the output received is in decimal form, it should be rounded off to its nearest value \n",
    "(for example, if the output received is 26.0, it should be printed as 26) \n",
    "In case of input data being supplied to the question, it should be assumed to be a console input. '''\n",
    "\n",
    "D = [int(x) for x in input().split(',')]\n",
    "\n",
    "result_list = []\n",
    "for a in D:\n",
    "    Q = round(math.sqrt(2 * 50 * a / 30))\n",
    "    result_list.append(Q)\n",
    "\n",
    "print(result_list)"
   ]
  },
  {
   "cell_type": "code",
   "execution_count": null,
   "id": "03346536",
   "metadata": {},
   "outputs": [],
   "source": []
  }
 ],
 "metadata": {
  "kernelspec": {
   "display_name": "Python 3",
   "language": "python",
   "name": "python3"
  },
  "language_info": {
   "codemirror_mode": {
    "name": "ipython",
    "version": 3
   },
   "file_extension": ".py",
   "mimetype": "text/x-python",
   "name": "python",
   "nbconvert_exporter": "python",
   "pygments_lexer": "ipython3",
   "version": "3.8.8"
  }
 },
 "nbformat": 4,
 "nbformat_minor": 5
}
